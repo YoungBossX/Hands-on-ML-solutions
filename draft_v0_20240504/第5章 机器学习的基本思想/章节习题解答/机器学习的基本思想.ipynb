{
 "cells": [
  {
   "cell_type": "markdown",
   "metadata": {},
   "source": [
    "1. 机器学习的基本假设是：      \n",
    "   A. 在训练和测试数据中存在相同的模式。  \n",
    "   B. 训练数据和测试数据数量相同。   \n",
    "   C. 测试数据是训练数据的一部分。   \n",
    "   D. 训练数据的量足够多，可以训练出好的模型。  "
   ]
  },
  {
   "cell_type": "markdown",
   "metadata": {},
   "source": [
    "答：  \n",
    "A. 正确。训练数据和测试数据具有假设空间的一致性和数据分布的一致性时（独立同分布），才能从训练数据上学到的模式用测试数据进行测试并优化。不然模型在训练数据上学到的模式和测试数据差异很大就是过拟合了。    \n",
    "B. 错误。一般测试集会比较小。测试数据是用来评估模型的泛化能力的，训练数据一般比较大模型才更能学到模式表达数据特征。    \n",
    "C. 错误。测试数据必须是模型没有见过的，不然模型都已经学习过这些数据了，就不能称之为测试。（考试作弊）。  \n",
    "D. 错误。训练数据并不是量越大越好，好的模型取决于设计的模式是否拟合数据的特征。训练数据过大会导致计算资源消耗大，学到不恰当的特征等问题。  "
   ]
  },
  {
   "cell_type": "markdown",
   "metadata": {},
   "source": [
    "---"
   ]
  },
  {
   "cell_type": "markdown",
   "metadata": {},
   "source": [
    "2. 下列说法正确的是：   \n",
    "   A. 为了防止过拟合，正则化系数越大越好。   \n",
    "   B. 为了防止过拟合，应当选择尽可能简单的模型。   \n",
    "   C. 交叉验证方法中虽然所有数据都被用到，但是不存在信息泄露。   \n",
    "   D. 正则化系数$\\lambda$可以通过令损失函数对$\\lambda$的梯度为零计算出来。  "
   ]
  },
  {
   "cell_type": "markdown",
   "metadata": {},
   "source": [
    "答：  \n",
    "A. 错误。正则化系数一般设置为比较小的数。系数过大的话惩罚严重会导致模型无法拟合数据，欠拟合。  \n",
    "B. 正确。简单的模型更容易泛化到新的数据上，但是模型也不能过于简单。   \n",
    "C. 正确。先划分数据集再进行训练确保了信息保密，同时划分数据集前一般还会对数据进行随机打乱处理。  \n",
    "D. 错误。正则化系数是手动选择的超参数，需要通过模型的效果人工调试。  "
   ]
  },
  {
   "cell_type": "markdown",
   "metadata": {},
   "source": [
    "---"
   ]
  },
  {
   "cell_type": "markdown",
   "metadata": {},
   "source": [
    "3. 假如数据中不存在噪声，过拟合现象是否会消失？"
   ]
  },
  {
   "cell_type": "markdown",
   "metadata": {},
   "source": [
    "答：不会。过拟合不仅仅是针对噪声，模型需要学习的模式是能概括到整体数据的，如果训练数据比较复杂，也会过度拟合数据导致泛化能力较差。训练数据的某些细节是需要忽视的，不能完全拟合数据。解决过拟合问题可以采样正则化和特征选择等。"
   ]
  },
  {
   "cell_type": "markdown",
   "metadata": {},
   "source": [
    "---"
   ]
  },
  {
   "cell_type": "markdown",
   "metadata": {},
   "source": [
    "4. 机器学习模型是否可以预测毫无规律的真随机数？试从统计规律的角度解释原因。"
   ]
  },
  {
   "cell_type": "markdown",
   "metadata": {},
   "source": [
    "答：不能。机器学习模型其实就是学习训练数据的统计规律来建立预测模型的。而真随机数本就是不可预测的随机数值，每个数字都是独立的，是不可能有模式能够描述的。"
   ]
  },
  {
   "cell_type": "markdown",
   "metadata": {},
   "source": [
    "---"
   ]
  },
  {
   "cell_type": "markdown",
   "metadata": {},
   "source": [
    "5. 除了学习率$\\eta$，第 4 章的线性回归模型中还有哪些超参数？数据集$N$大小是超参数吗？"
   ]
  },
  {
   "cell_type": "markdown",
   "metadata": {},
   "source": [
    "答：超参数是机器学习模型中不通过训练数据得到而是训练前设置的参数，超参数需要人为通过交叉验证判断进行设置或者通过启发式算法搜索来找到合适的超参数。  \n",
    "第4章的线性回归模型中除了学习率，梯度下降的迭代次数、批量大小以及收敛停止的条件也是超参数。数据集大小通常不是超参数，这是一个外部给定的属性，取决于数据集的大小。"
   ]
  },
  {
   "cell_type": "markdown",
   "metadata": {},
   "source": [
    "---"
   ]
  },
  {
   "cell_type": "markdown",
   "metadata": {},
   "source": [
    "6. 在实践中，如果模型在测试集上的效果不好，如何判断模型是欠拟合还是过拟合？"
   ]
  },
  {
   "cell_type": "markdown",
   "metadata": {},
   "source": [
    "答：我的经验而言，会把模型的训练误差和测试误差都画出来，如果明显看到训练误差小，测试误差大，就是过拟合了；如果发现训练误差和测试误差都不是很好，就是可能欠拟合了。还可以看看模型训练出来的参数，如果模型参数很复杂很大，参数比较多，就是可能过拟合了，如果模型复杂度很低，参数很少，就可能欠拟合了。"
   ]
  },
  {
   "cell_type": "markdown",
   "metadata": {},
   "source": [
    "---"
   ]
  },
  {
   "cell_type": "markdown",
   "metadata": {},
   "source": [
    "7. 将第4章中的训练集-验证集划分改为交叉验证，选出最好的模型在测试集上测试"
   ]
  },
  {
   "cell_type": "code",
   "execution_count": 57,
   "metadata": {},
   "outputs": [
    {
     "name": "stdout",
     "output_type": "stream",
     "text": [
      "数据特征： Avg. Area Income, Avg. Area House Age, Avg. Area Number of Rooms, Avg. Area Number of Bedrooms, Area Population\n",
      "数据标签： Price\n",
      "数据总条数： 5000\n",
      "各模型的均方误差： [0.08091231 0.08605404 0.07910359 0.0816279  0.08354542]\n",
      "最佳模型的均方误差： 0.0860540387450174\n",
      "最佳模型在测试集上的均方误差： 0.08354542259852639\n",
      "最佳模型的参数：\n",
      "系数（斜率）： [0.65361133 0.46378742 0.34520317 0.00353179 0.42506886]\n",
      "截距： 0.002706822695746307\n"
     ]
    }
   ],
   "source": [
    "from sklearn.model_selection import cross_val_score\n",
    "from sklearn.linear_model import LinearRegression\n",
    "from sklearn.preprocessing import StandardScaler\n",
    "from sklearn.metrics import mean_squared_error\n",
    "\n",
    "\n",
    "# 从源文件加载数据，并输出查看数据的各项特征\n",
    "lines = np.loadtxt('D:/我的学习/Machine_Learning/动手学机器学习/Hands-on-ML/第4章 线性回归/USA_Housing.csv', delimiter=',', dtype='str')\n",
    "header = lines[0]\n",
    "lines = lines[1:].astype(float)\n",
    "print('数据特征：', ', '.join(header[:-1]))\n",
    "print('数据标签：', header[-1])\n",
    "print('数据总条数：', len(lines))\n",
    "\n",
    "\n",
    "# 数据归一化\n",
    "scaler = StandardScaler()\n",
    "scaler.fit(lines) # 使用所有数据计算均值和方差\n",
    "lines_scaled = scaler.transform(lines)\n",
    "\n",
    "# 划分输入和标签\n",
    "x, y = lines_scaled[:, :-1], lines_scaled[:, -1]\n",
    "\n",
    "# 定义线性回归模型\n",
    "model = LinearRegression()\n",
    "\n",
    "# 使用交叉验证来选择最佳模型\n",
    "cv_scores = cross_val_score(model, x, y, cv=5, scoring='neg_mean_squared_error')\n",
    "mse_scores = -cv_scores  # 取负值得到均方误差\n",
    "\n",
    "print(\"各模型的均方误差：\", mse_scores)\n",
    "\n",
    "best_mse = mse_scores.max()  # 选择均方误差最小的模型\n",
    "best_model_index = mse_scores.argmax()  # 最佳模型对应的索引\n",
    "\n",
    "print(\"最佳模型的均方误差：\", best_mse)\n",
    "\n",
    "# 在测试集上评估最佳模型\n",
    "train_size = len(lines) * 4 // 5  # 使用80%的数据作为训练集\n",
    "test_size = len(lines) - train_size  # 剩下的数据作为测试集\n",
    "train, test = lines_scaled[:train_size], lines_scaled[train_size:]\n",
    "x_train, y_train = train[:, :-1], train[:, -1]\n",
    "x_test, y_test = test[:, :-1], test[:, -1]\n",
    "\n",
    "best_model = model.fit(x_train, y_train)  # 在训练集上训练最佳模型\n",
    "y_pred = best_model.predict(x_test)  # 在测试集上预测\n",
    "mse_test = mean_squared_error(y_test, y_pred)  # 计算在测试集上的均方误差\n",
    "print(\"最佳模型在测试集上的均方误差：\", mse_test)\n",
    "\n",
    "# 输出最佳模型的参数\n",
    "print(\"最佳模型的参数：\")\n",
    "print(\"系数（斜率）：\", best_model.coef_)\n",
    "print(\"截距：\", best_model.intercept_)\n"
   ]
  }
 ],
 "metadata": {
  "kernelspec": {
   "display_name": "d2l",
   "language": "python",
   "name": "python3"
  },
  "language_info": {
   "codemirror_mode": {
    "name": "ipython",
    "version": 3
   },
   "file_extension": ".py",
   "mimetype": "text/x-python",
   "name": "python",
   "nbconvert_exporter": "python",
   "pygments_lexer": "ipython3",
   "version": "3.9.18"
  }
 },
 "nbformat": 4,
 "nbformat_minor": 2
}
