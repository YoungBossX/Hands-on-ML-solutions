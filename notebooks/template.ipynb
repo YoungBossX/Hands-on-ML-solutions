{
 "cells": [
  {
   "cell_type": "markdown",
   "metadata": {},
   "source": [
    "# 第1章 初探机器学习"
   ]
  },
  {
   "cell_type": "markdown",
   "metadata": {},
   "source": [
    "## 习题1\n",
    "请解释机器学习中的“泛化能力”，并说明影响模型泛化能力的因素。"
   ]
  },
  {
   "cell_type": "markdown",
   "metadata": {},
   "source": [
    "**解答**"
   ]
  },
  {
   "cell_type": "markdown",
   "metadata": {},
   "source": [
    "&emsp;&emsp; 请注意段落前空格"
   ]
  },
  {
   "cell_type": "markdown",
   "metadata": {},
   "source": [
    "## 习题2"
   ]
  },
  {
   "cell_type": "markdown",
   "metadata": {},
   "source": [
    "下列关于机器学习的说法中，错误的是（ ）。  \n",
    "&emsp; A. 机器学习是一种通过经验数据优化性能的自动化过程。  \n",
    "&emsp; B. 机器学习模型的泛化能力与其复杂度成正比。  \n",
    "&emsp; C. 泛化能力描述了模型在未见过的数据上的预测性能。  \n",
    "&emsp; D. 不同的机器学习模型具有不同的归纳偏置。"
   ]
  },
  {
   "cell_type": "markdown",
   "metadata": {},
   "source": [
    "**解答**"
   ]
  },
  {
   "cell_type": "markdown",
   "metadata": {},
   "source": [
    "&emsp;&emsp;**答案：B**    \n",
    "  \n",
    "&emsp;&emsp;A. 正确。根据赫尔伯特·西蒙教授和汤姆·米歇尔教授的定义，机器学习确实是通过经验数据来提升性能的自动化过程。  \n",
    "&emsp;&emsp;B. 错误。泛化能力与模型复杂度之间并不是简单的正相关关系。模型复杂度越高，虽然可能在训练数据上表现更好，但如果数据量不足，很容易导致过拟合，从而降低泛化能力。因此，模型复杂度与泛化能力之间的关系需要根据具体任务和数据量来权衡。  \n",
    "&emsp;&emsp;C. 正确。泛化能力正是用来衡量模型在未见过的数据上的表现，反映了模型对新数据的预测能力。  \n",
    "&emsp;&emsp;D. 正确。不同的模型对数据的假设不同，这种先验假设就是归纳偏置。例如，线性模型假设数据是线性可分的，而决策树则对数据的结构化特征有更强的归纳偏置。"
   ]
  },
  {
   "cell_type": "markdown",
   "metadata": {},
   "source": [
    "## 习题3"
   ]
  },
  {
   "cell_type": "markdown",
   "metadata": {},
   "source": [
    "使用Python实现一个简单的线性回归模型，预测房价。假设你已经有一个包含房屋面积（X）和房价（y）的数据集"
   ]
  },
  {
   "cell_type": "markdown",
   "metadata": {},
   "source": [
    "**解答**"
   ]
  },
  {
   "cell_type": "code",
   "execution_count": null,
   "metadata": {},
   "outputs": [
    {
     "name": "stdout",
     "output_type": "stream",
     "text": [
      "预测的房价为：2200.0\n"
     ]
    }
   ],
   "source": [
    "import numpy as np\n",
    "from sklearn.linear_model import LinearRegression\n",
    "\n",
    "# 示例数据\n",
    "X = np.array([[100], [150], [200], [250], [300]])  # 房屋面积\n",
    "y = np.array([1000, 1500, 2000, 2500, 3000])        # 房价\n",
    "\n",
    "# 构建并训练模型\n",
    "model = LinearRegression()\n",
    "model.fit(X, y)\n",
    "\n",
    "# 预测房屋面积为220平方米的房价\n",
    "predicted_price = model.predict([[220]])\n",
    "print(f\"预测的房价为：{predicted_price[0]}\")"
   ]
  }
 ],
 "metadata": {
  "kernelspec": {
   "display_name": "d2l",
   "language": "python",
   "name": "python3"
  },
  "language_info": {
   "codemirror_mode": {
    "name": "ipython",
    "version": 3
   },
   "file_extension": ".py",
   "mimetype": "text/x-python",
   "name": "python",
   "nbconvert_exporter": "python",
   "pygments_lexer": "ipython3",
   "version": "3.9.20"
  }
 },
 "nbformat": 4,
 "nbformat_minor": 2
}
